{
 "cells": [
  {
   "cell_type": "markdown",
   "id": "c0d371d1",
   "metadata": {},
   "source": [
    "### Dataset https://www.kaggle.com/datasets/kamaumunyori/income-prediction-dataset-us-20th-century-data/code\n",
    "About Dataset\n",
    "This dataset was introduced in a competition on Zindi to challenge data professionals to predict whether members of the test population would be earning below or above $50,000 based on the variables taken into account in the analysis."
   ]
  },
  {
   "cell_type": "markdown",
   "id": "081450c2",
   "metadata": {},
   "source": [
    "- Age.\n",
    "- Gender.\n",
    "- Education.\n",
    "- Class.\n",
    "- Education institute.\n",
    "- Marital status.\n",
    "- Race.\n",
    "- Is hispanic.\n",
    "- Employment commitment.\n",
    "- Unemployment reason.\n",
    "- Employment state.\n",
    "- Wage per hour.\n",
    "- Is part of labor union.\n",
    "- Working week per year.\n",
    "- Industry code.\n",
    "- Main Industry code.\n",
    "- Occupation code.\n",
    "- Main Occupation code.\n",
    "- Total employed.\n",
    "- Household stat.\n",
    "- Household summary.\n",
    "- Under 18 family.\n",
    "- Veterans adminquestionnaire.\n",
    "- Veteran benefit.\n",
    "- Tax status.\n",
    "- Gains.\n",
    "- Losses.\n",
    "- Stocks status.\n",
    "- Citizenship.\n",
    "- Migration year.\n",
    "- Country of birth own.\n",
    "- Country of birth father.\n",
    "- Country of birth mother.\n",
    "- Migration code change in msa.\n",
    "- Migration previous sunbelt.\n",
    "- Migration code move within registration.\n",
    "- Migration code change in registration.\n",
    "- Residence 1 year ago.\n",
    "- Old residence registration.\n",
    "- Old residence state.\n",
    "- Importance of record.\n"
   ]
  },
  {
   "cell_type": "markdown",
   "id": "4df4e6f6",
   "metadata": {},
   "source": [
    "- Income above limit.<br>\n",
    "Target column categorizing  earning below or above $50,000"
   ]
  },
  {
   "cell_type": "markdown",
   "id": "b012927e",
   "metadata": {},
   "source": [
    "# Loading Dataset"
   ]
  },
  {
   "cell_type": "code",
   "execution_count": null,
   "id": "e70a5d95",
   "metadata": {},
   "outputs": [],
   "source": [
    "import pandas as pd\n",
    "import plotly.express as px\n",
    "pd.set_option('display.max_columns', None)\n"
   ]
  },
  {
   "cell_type": "code",
   "execution_count": null,
   "id": "a68684f0",
   "metadata": {},
   "outputs": [],
   "source": [
    "df = pd.read_csv(\"Dataset/Train.csv\")\n"
   ]
  },
  {
   "cell_type": "markdown",
   "id": "7a1f98bc",
   "metadata": {},
   "source": [
    "# Data Exploring"
   ]
  },
  {
   "cell_type": "markdown",
   "id": "92bc7e63",
   "metadata": {},
   "source": [
    "## understanding data"
   ]
  },
  {
   "cell_type": "code",
   "execution_count": null,
   "id": "cad96838",
   "metadata": {},
   "outputs": [],
   "source": [
    "df.info()"
   ]
  },
  {
   "cell_type": "code",
   "execution_count": null,
   "id": "95b813ea",
   "metadata": {},
   "outputs": [],
   "source": [
    "df.head(10)"
   ]
  },
  {
   "cell_type": "code",
   "execution_count": null,
   "id": "dcabead3",
   "metadata": {},
   "outputs": [],
   "source": [
    "df.describe().iloc[[3,7]]\n",
    "#df.describe()"
   ]
  },
  {
   "cell_type": "code",
   "execution_count": null,
   "id": "221c65e4",
   "metadata": {},
   "outputs": [],
   "source": [
    "df.describe(include=\"object\")"
   ]
  },
  {
   "cell_type": "markdown",
   "id": "6cc21384",
   "metadata": {},
   "source": [
    "## Data Cleaning"
   ]
  },
  {
   "cell_type": "markdown",
   "id": "f7e4d634",
   "metadata": {},
   "source": [
    "### Drop Column and check for duplication  \n"
   ]
  },
  {
   "cell_type": "code",
   "execution_count": null,
   "id": "05839bcf",
   "metadata": {},
   "outputs": [],
   "source": [
    "df.drop(columns=[\"ID\"], inplace=True)\n",
    "df.drop(columns=[\"importance_of_record\"], inplace=True)"
   ]
  },
  {
   "cell_type": "code",
   "execution_count": null,
   "id": "b3572406",
   "metadata": {},
   "outputs": [],
   "source": [
    "df.duplicated().sum()"
   ]
  },
  {
   "cell_type": "code",
   "execution_count": null,
   "id": "d7b02539",
   "metadata": {},
   "outputs": [],
   "source": [
    "df.drop_duplicates(inplace=True,ignore_index=True) #drop duplicates with index reset"
   ]
  },
  {
   "cell_type": "markdown",
   "id": "6b5f1e4d",
   "metadata": {},
   "source": [
    "### Data inconsistency"
   ]
  },
  {
   "cell_type": "markdown",
   "id": "c6e3f42e",
   "metadata": {},
   "source": [
    "remove white spaces from categorical columns and show unique values"
   ]
  },
  {
   "cell_type": "code",
   "execution_count": null,
   "id": "eb8a7c7f",
   "metadata": {},
   "outputs": [],
   "source": [
    "\n",
    "for col in df.select_dtypes(include=[\"object\"]).columns:\n",
    "    df[col] = df[col].str.strip()\n",
    "    print(f\"{col} : {df[col].unique()} \")\n",
    "  \n",
    "    print(\"------------------\")"
   ]
  },
  {
   "cell_type": "markdown",
   "id": "af156c9e",
   "metadata": {},
   "source": [
    "Fix ever and never in column household_stat<br>\n",
    "household_stat=> Child 18+ never marr Not in a subfamily + Child 18+ ever marr Not in a subfamily  change ever to never"
   ]
  },
  {
   "cell_type": "code",
   "execution_count": null,
   "id": "c71fbab4",
   "metadata": {},
   "outputs": [],
   "source": [
    "df[\"household_stat\"]=df[\"household_stat\"].str.replace(r'\\bever\\b',\"never\",regex=True)"
   ]
  },
  {
   "cell_type": "markdown",
   "id": "d76010a3",
   "metadata": {},
   "source": [
    "rename NA with dont know in is_hispanic"
   ]
  },
  {
   "cell_type": "code",
   "execution_count": null,
   "id": "745b166a",
   "metadata": {},
   "outputs": [],
   "source": [
    "df[\"is_hispanic\"]=df[\"is_hispanic\"].str.replace(r'\\bNA\\b',\"Do not know\",regex=True)\n",
    "df[\"is_hispanic\"].unique()"
   ]
  },
  {
   "cell_type": "markdown",
   "id": "28c6b912",
   "metadata": {},
   "source": [
    "change ? to Unknown"
   ]
  },
  {
   "cell_type": "code",
   "execution_count": null,
   "id": "217a64b9",
   "metadata": {},
   "outputs": [],
   "source": [
    "df[\"country_of_birth_own\"]=df[\"country_of_birth_own\"].str.replace('?',\"Unknown\")\n",
    "df[\"country_of_birth_father\"]=df[\"country_of_birth_father\"].str.replace('?',\"Unknown\")\n",
    "df[\"country_of_birth_mother\"]=df[\"country_of_birth_mother\"].str.replace('?',\"Unknown\")\n",
    "df[\"migration_code_change_in_msa\"]=df[\"migration_code_change_in_msa\"].str.replace('?',\"Unknown\")\n",
    "df[\"migration_prev_sunbelt\"]=df[\"migration_prev_sunbelt\"].str.replace('?',\"Unknown\")\n",
    "df[\"migration_code_move_within_reg\"]=df[\"migration_code_move_within_reg\"].str.replace('?',\"Unknown\")\n",
    "df[\"migration_code_change_in_reg\"]=df[\"migration_code_change_in_reg\"].str.replace('?',\"Unknown\")"
   ]
  },
  {
   "cell_type": "markdown",
   "id": "812ce5b8",
   "metadata": {},
   "source": [
    "### Data type mismatching not exists "
   ]
  },
  {
   "cell_type": "markdown",
   "id": "0f7a1dee",
   "metadata": {},
   "source": [
    "### numeric Graph Exploring"
   ]
  },
  {
   "cell_type": "code",
   "execution_count": null,
   "id": "08b06d70",
   "metadata": {},
   "outputs": [],
   "source": [
    "numeric_columns = df.select_dtypes(include=\"number\").columns\n",
    "for column in numeric_columns:\n",
    "    fig = px.histogram(df, x=column, title=column)\n",
    "    fig.show()"
   ]
  },
  {
   "cell_type": "markdown",
   "id": "eb519508",
   "metadata": {},
   "source": [
    "### Categorical Graph Exploring"
   ]
  },
  {
   "cell_type": "code",
   "execution_count": null,
   "id": "c86dcdf2",
   "metadata": {},
   "outputs": [],
   "source": [
    "#for best performance use histogram with histfunc=\"count\" instead of bar\n",
    "Categorical_columns = df.select_dtypes(include=\"O\").columns\n",
    "for column in Categorical_columns:\n",
    "    #counts = df[column].value_counts()  # Get category counts\n",
    "    #px.bar(data_frame=counts,x=counts.index,y=counts.values, title=column,labels={\"y\":\"count\"}).show()\n",
    "     px.histogram(data_frame=df,x=column, title=column,histfunc=\"count\").show()\n"
   ]
  },
  {
   "cell_type": "markdown",
   "id": "a7f80532",
   "metadata": {},
   "source": [
    "### Handling Missing Values and un-needed column\n",
    "\n"
   ]
  },
  {
   "cell_type": "code",
   "execution_count": null,
   "id": "8dc1a081",
   "metadata": {},
   "outputs": [],
   "source": [
    "df.isna().mean() *100"
   ]
  },
  {
   "cell_type": "markdown",
   "id": "c76512c9",
   "metadata": {},
   "source": [
    "#### Categorical columns"
   ]
  },
  {
   "cell_type": "markdown",
   "id": "54f67f9e",
   "metadata": {},
   "source": [
    "keep occupation_code_main ,  class for its importance \n",
    "\n",
    "Drop missing values columns > 42% \n",
    "- education_institute Nan 95%\n",
    "- unemployment_reason Nan 96%\n",
    "- is_labor_union Nan 90%\n",
    "- under_18_family Nan 72%\n",
    "- old_residence_reg Nan 92%\n",
    "- old_residence_state Nan 92%\n",
    "- veterans_admin_questionnaire 99%\n",
    "- residence_1_year_ago  50%\n",
    "\n",
    "Drop column occupation_code have sam meaning of occupation_code_main"
   ]
  },
  {
   "cell_type": "code",
   "execution_count": null,
   "id": "2f742579",
   "metadata": {},
   "outputs": [],
   "source": [
    "df.drop(columns=[\"occupation_code\",\"education_institute\",\"unemployment_reason\",\"is_labor_union\",\"under_18_family\",\"old_residence_reg\",\"old_residence_state\",\"veterans_admin_questionnaire\",\"residence_1_year_ago\"], inplace=True)"
   ]
  },
  {
   "cell_type": "markdown",
   "id": "b75e9f19",
   "metadata": {},
   "source": [
    "drop rows <5%"
   ]
  },
  {
   "cell_type": "code",
   "execution_count": null,
   "id": "c779f788",
   "metadata": {},
   "outputs": [],
   "source": [
    "# Drop rows where \"migration_code_move_within_reg\" or \"migration_code_change_in_reg\" or migration_code_change_in_msa have NaN values\n",
    "df_drop_na_rows = df.dropna(subset=[\"migration_code_move_within_reg\",\"migration_code_change_in_reg\",\"migration_code_change_in_msa\"],ignore_index=True)\n",
    "df_drop_na_rows.shape"
   ]
  },
  {
   "cell_type": "code",
   "execution_count": null,
   "id": "4e44fbef",
   "metadata": {},
   "outputs": [],
   "source": [
    "df_drop_na_rows.shape[0]/df.shape[0] *100"
   ]
  },
  {
   "cell_type": "code",
   "execution_count": null,
   "id": "1d033ffb",
   "metadata": {},
   "outputs": [],
   "source": [
    "df=df_drop_na_rows"
   ]
  },
  {
   "cell_type": "code",
   "execution_count": null,
   "id": "ba3bfe00",
   "metadata": {},
   "outputs": [],
   "source": [
    "df[\"class\"]=df[\"class\"].fillna(\"Unknown\")\n",
    "df[\"occupation_code_main\"]=df[\"occupation_code_main\"].fillna(\"Unknown\")\n",
    "df[\"migration_prev_sunbelt\"]=df[\"migration_prev_sunbelt\"].fillna(\"Unknown\")\n"
   ]
  },
  {
   "cell_type": "code",
   "execution_count": null,
   "id": "1d16aae0",
   "metadata": {},
   "outputs": [],
   "source": [
    "df_cat= df[[\"occupation_code_main\",\"migration_code_change_in_msa\",\"migration_prev_sunbelt\",\"migration_code_move_within_reg\",\"migration_code_change_in_reg\"]]\n",
    "for column in df_cat.columns:\n",
    "    fig = px.histogram(df_cat, x=column, title=column, histfunc=\"count\")\n",
    "    fig.show()"
   ]
  },
  {
   "cell_type": "code",
   "execution_count": null,
   "id": "aa61f940",
   "metadata": {},
   "outputs": [],
   "source": [
    "df.isna().mean() *100"
   ]
  },
  {
   "cell_type": "code",
   "execution_count": null,
   "id": "2fb7f42a",
   "metadata": {},
   "outputs": [],
   "source": [
    "df.duplicated().sum()"
   ]
  },
  {
   "cell_type": "code",
   "execution_count": null,
   "id": "43ac42c9",
   "metadata": {},
   "outputs": [],
   "source": [
    "df.drop_duplicates(inplace=True, ignore_index=True)  # Drop duplicates with index reset"
   ]
  },
  {
   "cell_type": "markdown",
   "id": "bf57e6d4",
   "metadata": {},
   "source": [
    "#### no missing Values for Numeric columns"
   ]
  },
  {
   "cell_type": "markdown",
   "id": "e24e90c3",
   "metadata": {},
   "source": [
    "### Outliers observation "
   ]
  },
  {
   "cell_type": "code",
   "execution_count": null,
   "id": "daf97f4c",
   "metadata": {},
   "outputs": [],
   "source": [
    "for column in df.select_dtypes(include=[\"number\"]).columns:\n",
    "   px.box(df, x=column,title=column).show()"
   ]
  },
  {
   "cell_type": "markdown",
   "id": "4a82c6d1",
   "metadata": {},
   "source": [
    "### Feature Engineering"
   ]
  },
  {
   "cell_type": "markdown",
   "id": "6ecfd395",
   "metadata": {},
   "source": [
    "add education level category"
   ]
  },
  {
   "cell_type": "code",
   "execution_count": null,
   "id": "1a1e1ed3",
   "metadata": {},
   "outputs": [],
   "source": [
    "def categorize_education(level):\n",
    "    if level in ['Less than 1st grade', '1st 2nd 3rd or 4th grade', '5th or 6th grade', '7th and 8th grade']:\n",
    "        return 'Primary Education'\n",
    "    elif level in ['9th grade', '10th grade', '11th grade', '12th grade no diploma']:\n",
    "        return 'Secondary Education'\n",
    "    elif level == 'High school graduate':\n",
    "        return 'High School Completion'\n",
    "    elif level in ['Some college but no degree', 'Associates degree-academic program', 'Associates degree-occup /vocational']:\n",
    "        return 'Post-Secondary (Higher Education)'\n",
    "    elif level in ['Bachelors degree(BA AB BS)', 'Masters degree(MA MS MEng MEd MSW MBA)', \n",
    "                   'Prof school degree (MD DDS DVM LLB JD)', 'Doctorate degree(PhD EdD)']:\n",
    "        return 'University Education'\n",
    "    else:\n",
    "        return 'Other'\n",
    "df[\"education_level\"] = df[\"education\"].apply(categorize_education)\n"
   ]
  },
  {
   "cell_type": "markdown",
   "id": "2dd67e38",
   "metadata": {},
   "source": [
    "add earning "
   ]
  },
  {
   "cell_type": "code",
   "execution_count": null,
   "id": "65b7f734",
   "metadata": {},
   "outputs": [],
   "source": [
    "\n",
    "df['earning'] = df['wage_per_hour'] * df['working_week_per_year']\n"
   ]
  },
  {
   "cell_type": "markdown",
   "id": "a436c79c",
   "metadata": {},
   "source": [
    "# Analytics"
   ]
  },
  {
   "cell_type": "markdown",
   "id": "50551a9a",
   "metadata": {},
   "source": [
    "corelation"
   ]
  },
  {
   "cell_type": "code",
   "execution_count": null,
   "id": "b7356b9c",
   "metadata": {},
   "outputs": [],
   "source": [
    "corr = df.corr(numeric_only=True)\n",
    "px.imshow(corr, text_auto=True, aspect=\"auto\", title=\"Correlation Matrix\")"
   ]
  },
  {
   "cell_type": "markdown",
   "id": "42538d8a",
   "metadata": {},
   "source": [
    "there is no strong relation ship between data except new generated earning column showing strong relation with wage_per_hour and this is a normal relation."
   ]
  },
  {
   "cell_type": "markdown",
   "id": "ff65e042",
   "metadata": {},
   "source": [
    "Comparison of males and females earning over $50,000?"
   ]
  },
  {
   "cell_type": "code",
   "execution_count": null,
   "id": "468b419b",
   "metadata": {},
   "outputs": [],
   "source": [
    "px.histogram(data_frame=df[[\"gender\",\"income_above_limit\"]],x=\"gender\",facet_col=\"income_above_limit\",barmode=\"group\")"
   ]
  },
  {
   "cell_type": "markdown",
   "id": "44d968b6",
   "metadata": {},
   "source": [
    "It is clear that the majority of the population earns less than $50,000; with a higher number of females falling into the lower income bracket."
   ]
  },
  {
   "cell_type": "markdown",
   "id": "d56992b0",
   "metadata": {},
   "source": [
    "comparison between education level average earning  ?"
   ]
  },
  {
   "cell_type": "code",
   "execution_count": null,
   "id": "c31353d0",
   "metadata": {},
   "outputs": [],
   "source": [
    "#exclude earning = 0 from the population\n",
    "dt=round(df[df[\"earning\"]>0].groupby(\"education_level\")[\"earning\"].mean().reset_index(),2)\n",
    "px.pie(data_frame=dt, names=\"education_level\", values=\"earning\")\n"
   ]
  },
  {
   "cell_type": "markdown",
   "id": "86111a49",
   "metadata": {},
   "source": [
    "the university education came the first in earning compared to other education"
   ]
  },
  {
   "cell_type": "markdown",
   "id": "cd04e7d8",
   "metadata": {},
   "source": [
    "university education completion compared to other education ?"
   ]
  },
  {
   "cell_type": "code",
   "execution_count": null,
   "id": "13d422f8",
   "metadata": {},
   "outputs": [],
   "source": [
    "count_df= df.education_level.value_counts().reset_index()\n",
    "px.histogram(\n",
    "    data_frame=count_df, \n",
    "    x=\"education_level\",     \n",
    "    y=\"count\",\n",
    "    title=\"Earning by Education Level\"   \n",
    ")"
   ]
  },
  {
   "cell_type": "markdown",
   "id": "5dc21313",
   "metadata": {},
   "source": [
    "race earning comparison?"
   ]
  },
  {
   "cell_type": "code",
   "execution_count": null,
   "id": "1d9897af",
   "metadata": {},
   "outputs": [],
   "source": [
    "\n",
    "px.histogram(\n",
    "    data_frame=df[[\"race\",\"earning\"]]\n",
    "    ,x=\"race\",\n",
    "    y=\"earning\",\n",
    "    histfunc=\"avg\"\n",
    ")\n"
   ]
  },
  {
   "cell_type": "code",
   "execution_count": null,
   "id": "e548b032",
   "metadata": {},
   "outputs": [],
   "source": [
    "df.to_csv(\"Dataset/Train_cleaned.csv\", index=False)"
   ]
  }
 ],
 "metadata": {
  "kernelspec": {
   "display_name": "Python 3",
   "language": "python",
   "name": "python3"
  },
  "language_info": {
   "codemirror_mode": {
    "name": "ipython",
    "version": 3
   },
   "file_extension": ".py",
   "mimetype": "text/x-python",
   "name": "python",
   "nbconvert_exporter": "python",
   "pygments_lexer": "ipython3",
   "version": "3.10.16"
  }
 },
 "nbformat": 4,
 "nbformat_minor": 5
}
