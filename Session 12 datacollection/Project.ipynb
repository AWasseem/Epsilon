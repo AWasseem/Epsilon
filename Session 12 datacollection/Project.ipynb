{
 "cells": [
  {
   "cell_type": "markdown",
   "metadata": {},
   "source": [
    "Scrape sigma Project (if you want you can try to scrape amazon instead):\n",
    "Sigma:\n",
    "https://www.sigma-computer.com/search?search=laptop&submit_search=&route=product%2Fsearch\n",
    "\n",
    "Amazon:\n",
    "https://www.amazon.com/s?k=iphone&crid=2OOD54QR2XQFT&sprefix=ipho%2Caps%2C285&ref=nb_sb_noss_2"
   ]
  },
  {
   "cell_type": "code",
   "execution_count": 41,
   "metadata": {},
   "outputs": [],
   "source": [
    "import requests\n",
    "from bs4 import BeautifulSoup\n",
    "response = requests.get(\"https://www.sigma-computer.com/search?search=laptop&submit_search=&route=product%2Fsearch\")\n",
    "records:list[tuple]=[]\n",
    "if response.status_code == 200:\n",
    "    soup = BeautifulSoup(response.content,\"html.parser\")\n",
    "    productTags= soup.find_all(\"div\",attrs={\"class\":\"product-item-container\"})\n",
    "    for e in productTags:\n",
    "         description = e.find(\"div\",attrs={\"class\",\"description\"}).find(\"a\").find_all(\"p\")[0].text\n",
    "         if \"Processor\" in description :\n",
    "            title = e.find(\"div\",attrs={\"class\",\"caption\"}).find(\"a\").attrs[\"title\"]\n",
    "            stock = e.find(\"span\",attrs={\"class\",\"stock\"}).text if e.find(\"span\",attrs={\"class\",\"stock\"}) != None else \"NO\"\n",
    "            oldPrice = e.find(\"span\",attrs={\"class\",\"price-old\"}).text.split()[0]\n",
    "            newPrice = e.find(\"span\",attrs={\"class\",\"price-new\"}).text.split()[0]\n",
    "            description = description.replace(\"\\r\",\" \").replace(\"\\n\",\" \").replace(\",\",\"-\").strip()\n",
    "            records.append((title,stock,oldPrice,newPrice,description))\n",
    "\n",
    "    with open(\"Laptops.csv\",mode=\"w\",encoding=\"utf-8\") as df:\n",
    "        df.write(\"title,stock,oldPrice,newPrice,description\\n\")\n",
    "        for e in records:\n",
    "            df.write(f\"\\\"{e[0]}\\\",\\\"{e[1]}\\\",{e[2]},{e[3]},\\\"{e[4]}\\\"\\n\")\n",
    "\n",
    "\n",
    "   \n",
    "    \n",
    "   "
   ]
  },
  {
   "cell_type": "markdown",
   "metadata": {},
   "source": [
    "# Git Hub URL\n",
    "https://github.com/AWasseem/Epsilon/tree/main/Session%2012%20datacollection"
   ]
  }
 ],
 "metadata": {
  "kernelspec": {
   "display_name": "Machine_Learning",
   "language": "python",
   "name": "python3"
  },
  "language_info": {
   "codemirror_mode": {
    "name": "ipython",
    "version": 3
   },
   "file_extension": ".py",
   "mimetype": "text/x-python",
   "name": "python",
   "nbconvert_exporter": "python",
   "pygments_lexer": "ipython3",
   "version": "3.9.20"
  }
 },
 "nbformat": 4,
 "nbformat_minor": 2
}
